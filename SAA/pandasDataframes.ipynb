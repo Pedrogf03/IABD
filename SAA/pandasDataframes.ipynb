{
 "cells": [
  {
   "cell_type": "markdown",
   "id": "76a49059-69ac-42bc-bca0-837d6c86ba4e",
   "metadata": {},
   "source": [
    "# Dataframes en Pandas"
   ]
  },
  {
   "cell_type": "markdown",
   "id": "61c4e4df",
   "metadata": {},
   "source": [
    "## Lectura, escritura / Mezcla y muestra"
   ]
  },
  {
   "cell_type": "markdown",
   "id": "2a5eaa53-2054-4f2b-91f1-27c09c9fa243",
   "metadata": {},
   "source": [
    "Importamos la librería pandas:"
   ]
  },
  {
   "cell_type": "code",
   "execution_count": 1,
   "id": "6623af61-857e-4dd9-a85d-d251d9fcfd15",
   "metadata": {},
   "outputs": [],
   "source": [
    "import pandas as pd"
   ]
  },
  {
   "cell_type": "markdown",
   "id": "fdbae7ed",
   "metadata": {},
   "source": [
    "Aquí vemos como se lee el csv y posteriormente se muestran los dos primeros:"
   ]
  },
  {
   "cell_type": "code",
   "execution_count": 11,
   "id": "6cdc811d-2c7c-4315-acb2-7280af593d75",
   "metadata": {},
   "outputs": [
    {
     "data": {
      "text/html": [
       "<div>\n",
       "<style scoped>\n",
       "    .dataframe tbody tr th:only-of-type {\n",
       "        vertical-align: middle;\n",
       "    }\n",
       "\n",
       "    .dataframe tbody tr th {\n",
       "        vertical-align: top;\n",
       "    }\n",
       "\n",
       "    .dataframe thead th {\n",
       "        text-align: right;\n",
       "    }\n",
       "</style>\n",
       "<table border=\"1\" class=\"dataframe\">\n",
       "  <thead>\n",
       "    <tr style=\"text-align: right;\">\n",
       "      <th></th>\n",
       "      <th>rowid</th>\n",
       "      <th>species</th>\n",
       "      <th>island</th>\n",
       "      <th>bill_length_mm</th>\n",
       "      <th>bill_depth_mm</th>\n",
       "      <th>flipper_length_mm</th>\n",
       "      <th>body_mass_g</th>\n",
       "      <th>sex</th>\n",
       "      <th>year</th>\n",
       "    </tr>\n",
       "  </thead>\n",
       "  <tbody>\n",
       "    <tr>\n",
       "      <th>0</th>\n",
       "      <td>1</td>\n",
       "      <td>Adelie</td>\n",
       "      <td>Torgersen</td>\n",
       "      <td>39.1</td>\n",
       "      <td>18.7</td>\n",
       "      <td>181.0</td>\n",
       "      <td>3750.0</td>\n",
       "      <td>male</td>\n",
       "      <td>2007</td>\n",
       "    </tr>\n",
       "    <tr>\n",
       "      <th>1</th>\n",
       "      <td>2</td>\n",
       "      <td>Adelie</td>\n",
       "      <td>Torgersen</td>\n",
       "      <td>39.5</td>\n",
       "      <td>17.4</td>\n",
       "      <td>186.0</td>\n",
       "      <td>3800.0</td>\n",
       "      <td>female</td>\n",
       "      <td>2007</td>\n",
       "    </tr>\n",
       "  </tbody>\n",
       "</table>\n",
       "</div>"
      ],
      "text/plain": [
       "   rowid species     island  bill_length_mm  bill_depth_mm  flipper_length_mm  \\\n",
       "0      1  Adelie  Torgersen            39.1           18.7              181.0   \n",
       "1      2  Adelie  Torgersen            39.5           17.4              186.0   \n",
       "\n",
       "   body_mass_g     sex  year  \n",
       "0       3750.0    male  2007  \n",
       "1       3800.0  female  2007  "
      ]
     },
     "execution_count": 11,
     "metadata": {},
     "output_type": "execute_result"
    }
   ],
   "source": [
    "df_penguins = pd.read_csv('penguins.csv')\n",
    "df_penguins.head(2)"
   ]
  },
  {
   "cell_type": "markdown",
   "id": "2f83e929",
   "metadata": {},
   "source": [
    "De esta forma escribimos el dataframe en un archivo csv:"
   ]
  },
  {
   "cell_type": "code",
   "execution_count": 3,
   "id": "480c16ac",
   "metadata": {},
   "outputs": [],
   "source": [
    "df_penguins.to_csv('penguins.csv', index=False)"
   ]
  },
  {
   "cell_type": "markdown",
   "id": "b5e770da",
   "metadata": {},
   "source": [
    "De esta forma hacemos una copia del dataframe, pero desordenada:"
   ]
  },
  {
   "cell_type": "code",
   "execution_count": 4,
   "id": "1aa4e1f5",
   "metadata": {},
   "outputs": [
    {
     "data": {
      "text/html": [
       "<div>\n",
       "<style scoped>\n",
       "    .dataframe tbody tr th:only-of-type {\n",
       "        vertical-align: middle;\n",
       "    }\n",
       "\n",
       "    .dataframe tbody tr th {\n",
       "        vertical-align: top;\n",
       "    }\n",
       "\n",
       "    .dataframe thead th {\n",
       "        text-align: right;\n",
       "    }\n",
       "</style>\n",
       "<table border=\"1\" class=\"dataframe\">\n",
       "  <thead>\n",
       "    <tr style=\"text-align: right;\">\n",
       "      <th></th>\n",
       "      <th>rowid</th>\n",
       "      <th>species</th>\n",
       "      <th>island</th>\n",
       "      <th>bill_length_mm</th>\n",
       "      <th>bill_depth_mm</th>\n",
       "      <th>flipper_length_mm</th>\n",
       "      <th>body_mass_g</th>\n",
       "      <th>sex</th>\n",
       "      <th>year</th>\n",
       "    </tr>\n",
       "  </thead>\n",
       "  <tbody>\n",
       "    <tr>\n",
       "      <th>307</th>\n",
       "      <td>308</td>\n",
       "      <td>Chinstrap</td>\n",
       "      <td>Dream</td>\n",
       "      <td>54.2</td>\n",
       "      <td>20.8</td>\n",
       "      <td>201.0</td>\n",
       "      <td>4300.0</td>\n",
       "      <td>male</td>\n",
       "      <td>2008</td>\n",
       "    </tr>\n",
       "    <tr>\n",
       "      <th>272</th>\n",
       "      <td>273</td>\n",
       "      <td>Gentoo</td>\n",
       "      <td>Biscoe</td>\n",
       "      <td>46.8</td>\n",
       "      <td>14.3</td>\n",
       "      <td>215.0</td>\n",
       "      <td>4850.0</td>\n",
       "      <td>female</td>\n",
       "      <td>2009</td>\n",
       "    </tr>\n",
       "  </tbody>\n",
       "</table>\n",
       "</div>"
      ],
      "text/plain": [
       "     rowid    species  island  bill_length_mm  bill_depth_mm  \\\n",
       "307    308  Chinstrap   Dream            54.2           20.8   \n",
       "272    273     Gentoo  Biscoe            46.8           14.3   \n",
       "\n",
       "     flipper_length_mm  body_mass_g     sex  year  \n",
       "307              201.0       4300.0    male  2008  \n",
       "272              215.0       4850.0  female  2009  "
      ]
     },
     "execution_count": 4,
     "metadata": {},
     "output_type": "execute_result"
    }
   ],
   "source": [
    "# frac -> Indica el porcentaje del dataframe que quieres obtener.\n",
    "df_shuffled = df_penguins.sample(frac=1)\n",
    "df_shuffled.head(2)"
   ]
  },
  {
   "cell_type": "markdown",
   "id": "2c8c56a7",
   "metadata": {},
   "source": [
    "De esta forma, nos quedamos con la mitad del dataframe:"
   ]
  },
  {
   "cell_type": "code",
   "execution_count": 5,
   "id": "d97483c1",
   "metadata": {},
   "outputs": [
    {
     "name": "stdout",
     "output_type": "stream",
     "text": [
      "Longitud del dataframe original: 344, longitud del dataframe muestreado: 172\n"
     ]
    }
   ],
   "source": [
    "df_sampled = df_penguins.sample(frac=0.5)\n",
    "print(f'Longitud del dataframe original: {len(df_penguins)}, longitud del dataframe muestreado: {len(df_sampled)}')"
   ]
  },
  {
   "cell_type": "markdown",
   "id": "e50ba2b4",
   "metadata": {},
   "source": [
    "## Añadiendo nuevas columnas"
   ]
  },
  {
   "cell_type": "markdown",
   "id": "a8fe9cea",
   "metadata": {},
   "source": [
    "Vamos a crear manualmente un dataframe y mostrarlo:"
   ]
  },
  {
   "cell_type": "code",
   "execution_count": 6,
   "id": "8f22c477",
   "metadata": {},
   "outputs": [
    {
     "data": {
      "text/html": [
       "<div>\n",
       "<style scoped>\n",
       "    .dataframe tbody tr th:only-of-type {\n",
       "        vertical-align: middle;\n",
       "    }\n",
       "\n",
       "    .dataframe tbody tr th {\n",
       "        vertical-align: top;\n",
       "    }\n",
       "\n",
       "    .dataframe thead th {\n",
       "        text-align: right;\n",
       "    }\n",
       "</style>\n",
       "<table border=\"1\" class=\"dataframe\">\n",
       "  <thead>\n",
       "    <tr style=\"text-align: right;\">\n",
       "      <th></th>\n",
       "      <th>temp_celsius</th>\n",
       "    </tr>\n",
       "  </thead>\n",
       "  <tbody>\n",
       "    <tr>\n",
       "      <th>Delhi</th>\n",
       "      <td>35.0</td>\n",
       "    </tr>\n",
       "    <tr>\n",
       "      <th>Mumbai</th>\n",
       "      <td>25.0</td>\n",
       "    </tr>\n",
       "  </tbody>\n",
       "</table>\n",
       "</div>"
      ],
      "text/plain": [
       "        temp_celsius\n",
       "Delhi           35.0\n",
       "Mumbai          25.0"
      ]
     },
     "execution_count": 6,
     "metadata": {},
     "output_type": "execute_result"
    }
   ],
   "source": [
    "df = pd.DataFrame({'temp_celsius': [35.0, 25.0]}, index=['Delhi', 'Mumbai'])\n",
    "df"
   ]
  },
  {
   "cell_type": "markdown",
   "id": "9a5f2042",
   "metadata": {},
   "source": [
    "Ahora, podemos insertar una nueva columna de la siguiente forma:"
   ]
  },
  {
   "cell_type": "code",
   "execution_count": 7,
   "id": "14c430b3",
   "metadata": {},
   "outputs": [
    {
     "data": {
      "text/html": [
       "<div>\n",
       "<style scoped>\n",
       "    .dataframe tbody tr th:only-of-type {\n",
       "        vertical-align: middle;\n",
       "    }\n",
       "\n",
       "    .dataframe tbody tr th {\n",
       "        vertical-align: top;\n",
       "    }\n",
       "\n",
       "    .dataframe thead th {\n",
       "        text-align: right;\n",
       "    }\n",
       "</style>\n",
       "<table border=\"1\" class=\"dataframe\">\n",
       "  <thead>\n",
       "    <tr style=\"text-align: right;\">\n",
       "      <th></th>\n",
       "      <th>temp_celsius</th>\n",
       "      <th>wind_speed_kmh</th>\n",
       "    </tr>\n",
       "  </thead>\n",
       "  <tbody>\n",
       "    <tr>\n",
       "      <th>Delhi</th>\n",
       "      <td>35.0</td>\n",
       "      <td>26.0</td>\n",
       "    </tr>\n",
       "    <tr>\n",
       "      <th>Mumbai</th>\n",
       "      <td>25.0</td>\n",
       "      <td>30.0</td>\n",
       "    </tr>\n",
       "  </tbody>\n",
       "</table>\n",
       "</div>"
      ],
      "text/plain": [
       "        temp_celsius  wind_speed_kmh\n",
       "Delhi           35.0            26.0\n",
       "Mumbai          25.0            30.0"
      ]
     },
     "execution_count": 7,
     "metadata": {},
     "output_type": "execute_result"
    }
   ],
   "source": [
    "speed_values = [26.0, 30.0]\n",
    "df = df.assign(wind_speed_kmh=speed_values)\n",
    "df"
   ]
  },
  {
   "cell_type": "markdown",
   "id": "7da28464",
   "metadata": {},
   "source": [
    "Podemos usar lambdas para generar columnas nuevas usando columnas ya existentes:"
   ]
  },
  {
   "cell_type": "code",
   "execution_count": 8,
   "id": "321795ff",
   "metadata": {},
   "outputs": [
    {
     "data": {
      "text/html": [
       "<div>\n",
       "<style scoped>\n",
       "    .dataframe tbody tr th:only-of-type {\n",
       "        vertical-align: middle;\n",
       "    }\n",
       "\n",
       "    .dataframe tbody tr th {\n",
       "        vertical-align: top;\n",
       "    }\n",
       "\n",
       "    .dataframe thead th {\n",
       "        text-align: right;\n",
       "    }\n",
       "</style>\n",
       "<table border=\"1\" class=\"dataframe\">\n",
       "  <thead>\n",
       "    <tr style=\"text-align: right;\">\n",
       "      <th></th>\n",
       "      <th>temp_celsius</th>\n",
       "      <th>wind_speed_kmh</th>\n",
       "      <th>wind_speed_mph</th>\n",
       "    </tr>\n",
       "  </thead>\n",
       "  <tbody>\n",
       "    <tr>\n",
       "      <th>Delhi</th>\n",
       "      <td>35.0</td>\n",
       "      <td>26.0</td>\n",
       "      <td>16.146</td>\n",
       "    </tr>\n",
       "    <tr>\n",
       "      <th>Mumbai</th>\n",
       "      <td>25.0</td>\n",
       "      <td>30.0</td>\n",
       "      <td>18.630</td>\n",
       "    </tr>\n",
       "  </tbody>\n",
       "</table>\n",
       "</div>"
      ],
      "text/plain": [
       "        temp_celsius  wind_speed_kmh  wind_speed_mph\n",
       "Delhi           35.0            26.0          16.146\n",
       "Mumbai          25.0            30.0          18.630"
      ]
     },
     "execution_count": 8,
     "metadata": {},
     "output_type": "execute_result"
    }
   ],
   "source": [
    "df = df.assign(wind_speed_mph = lambda x: x['wind_speed_kmh'] * 0.621)\n",
    "df"
   ]
  },
  {
   "cell_type": "code",
   "execution_count": 9,
   "id": "852e23cf",
   "metadata": {},
   "outputs": [
    {
     "data": {
      "text/html": [
       "<div>\n",
       "<style scoped>\n",
       "    .dataframe tbody tr th:only-of-type {\n",
       "        vertical-align: middle;\n",
       "    }\n",
       "\n",
       "    .dataframe tbody tr th {\n",
       "        vertical-align: top;\n",
       "    }\n",
       "\n",
       "    .dataframe thead th {\n",
       "        text-align: right;\n",
       "    }\n",
       "</style>\n",
       "<table border=\"1\" class=\"dataframe\">\n",
       "  <thead>\n",
       "    <tr style=\"text-align: right;\">\n",
       "      <th></th>\n",
       "      <th>temp_celsius</th>\n",
       "      <th>wind_speed_kmh</th>\n",
       "      <th>wind_speed_mph</th>\n",
       "      <th>temp_fahrenheit</th>\n",
       "      <th>temp_kelvin</th>\n",
       "    </tr>\n",
       "  </thead>\n",
       "  <tbody>\n",
       "    <tr>\n",
       "      <th>Delhi</th>\n",
       "      <td>35.0</td>\n",
       "      <td>26.0</td>\n",
       "      <td>16.146</td>\n",
       "      <td>95.0</td>\n",
       "      <td>308.15</td>\n",
       "    </tr>\n",
       "    <tr>\n",
       "      <th>Mumbai</th>\n",
       "      <td>25.0</td>\n",
       "      <td>30.0</td>\n",
       "      <td>18.630</td>\n",
       "      <td>77.0</td>\n",
       "      <td>298.15</td>\n",
       "    </tr>\n",
       "  </tbody>\n",
       "</table>\n",
       "</div>"
      ],
      "text/plain": [
       "        temp_celsius  wind_speed_kmh  wind_speed_mph  temp_fahrenheit  \\\n",
       "Delhi           35.0            26.0          16.146             95.0   \n",
       "Mumbai          25.0            30.0          18.630             77.0   \n",
       "\n",
       "        temp_kelvin  \n",
       "Delhi        308.15  \n",
       "Mumbai       298.15  "
      ]
     },
     "execution_count": 9,
     "metadata": {},
     "output_type": "execute_result"
    }
   ],
   "source": [
    "df.assign(temp_fahrenheit = lambda x: x['temp_celsius'] * 9/5 + 32,\n",
    "            temp_kelvin = lambda x: (x['temp_fahrenheit'] + 459.67) * 5/9)"
   ]
  },
  {
   "cell_type": "markdown",
   "id": "d2bb16ec",
   "metadata": {},
   "source": [
    "## Genera estadísticas descriptivas de tus dataframes"
   ]
  }
 ],
 "metadata": {
  "kernelspec": {
   "display_name": ".venv (3.13.7)",
   "language": "python",
   "name": "python3"
  },
  "language_info": {
   "codemirror_mode": {
    "name": "ipython",
    "version": 3
   },
   "file_extension": ".py",
   "mimetype": "text/x-python",
   "name": "python",
   "nbconvert_exporter": "python",
   "pygments_lexer": "ipython3",
   "version": "3.13.7"
  }
 },
 "nbformat": 4,
 "nbformat_minor": 5
}
