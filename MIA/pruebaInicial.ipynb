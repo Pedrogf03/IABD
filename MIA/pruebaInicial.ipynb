{
 "cells": [
  {
   "cell_type": "markdown",
   "id": "6005627c-48f4-4a48-bed7-ead60319a8aa",
   "metadata": {},
   "source": [
    "# Realizar un programa en Python que dada una lista de 20 números, calcule la media, la moda y la mediana."
   ]
  },
  {
   "cell_type": "markdown",
   "id": "21e3f41d-992e-4cb6-8408-a3b84579baf6",
   "metadata": {},
   "source": [
    "- Media: Suma de todos los números / Número de números.\n",
    "- Moda: Número que más se repite.\n",
    "- Mediana: Ordenarlos y quedarse con el del medio."
   ]
  },
  {
   "cell_type": "code",
   "execution_count": 1,
   "id": "7fb8e9b2-e765-4a0c-8774-4a853fc2bec4",
   "metadata": {},
   "outputs": [
    {
     "name": "stdout",
     "output_type": "stream",
     "text": [
      "Media: 8.6\n",
      "Moda: [1]\n",
      "Mediana: 8\n"
     ]
    }
   ],
   "source": [
    "nums = [1,2,3,4,5,6,7,8,9,10,11,12,13,14,15,16,17,18,19,20,1,1,1,1,1]\n",
    "\n",
    "media = 0\n",
    "moda = 0\n",
    "mediana = 0\n",
    "\n",
    "# Media\n",
    "for num in nums:\n",
    "    media = media + num\n",
    "\n",
    "media = media / len(nums)\n",
    "\n",
    "print(\"Media: \" + str(media))\n",
    "\n",
    "# Moda\n",
    "reps = {}\n",
    "for num in nums:\n",
    "    if num in reps:\n",
    "        reps[num] += 1\n",
    "    else:\n",
    "        reps[num] = 1\n",
    "\n",
    "moda = [num for num, rep in reps.items() if rep == max(reps.values())]\n",
    "\n",
    "print(\"Moda: \" + str(moda))\n",
    "\n",
    "# Mediana\n",
    "sortedNums = sorted(nums)\n",
    "n = len(nums)\n",
    "\n",
    "if n % 2 == 0:\n",
    "    mediana = (sortedNums[n//2 - 1] + sortedNums[n//2]) / 2\n",
    "else:\n",
    "    mediana = sortedNums[n//2]\n",
    "    \n",
    "print(\"Mediana: \" + str(mediana))"
   ]
  }
 ],
 "metadata": {
  "kernelspec": {
   "display_name": "Python [conda env:base] *",
   "language": "python",
   "name": "conda-base-py"
  },
  "language_info": {
   "codemirror_mode": {
    "name": "ipython",
    "version": 3
   },
   "file_extension": ".py",
   "mimetype": "text/x-python",
   "name": "python",
   "nbconvert_exporter": "python",
   "pygments_lexer": "ipython3",
   "version": "3.13.5"
  }
 },
 "nbformat": 4,
 "nbformat_minor": 5
}
