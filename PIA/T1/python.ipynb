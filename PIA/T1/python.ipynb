{
 "cells": [
  {
   "cell_type": "markdown",
   "id": "54167347",
   "metadata": {},
   "source": [
    "# Aprendiendo Python"
   ]
  },
  {
   "cell_type": "markdown",
   "id": "f00ae633",
   "metadata": {},
   "source": [
    "## Operadores"
   ]
  },
  {
   "cell_type": "markdown",
   "id": "309c99d4",
   "metadata": {},
   "source": [
    "### 1.- Escribe un programa que pida al usuario un número e imprima si es positivo o negativo."
   ]
  },
  {
   "cell_type": "code",
   "execution_count": 1,
   "id": "29d15e3a",
   "metadata": {},
   "outputs": [
    {
     "name": "stdout",
     "output_type": "stream",
     "text": [
      "El número es positivo.\n"
     ]
    }
   ],
   "source": [
    "num = float(input(\"Introduce un número: \"))\n",
    "\n",
    "if num > 0:\n",
    "  print(\"El número es positivo.\")\n",
    "elif num < 0:\n",
    "  print(\"El número es negativo.\")\n",
    "else:\n",
    "  print(\"El número es cero.\")"
   ]
  },
  {
   "cell_type": "markdown",
   "id": "235bff78",
   "metadata": {},
   "source": [
    "### 2.- Escribe un programa que pida al usuario dos números y muestre cuál de ellos es mayor o si son iguales."
   ]
  },
  {
   "cell_type": "code",
   "execution_count": null,
   "id": "16f2410a",
   "metadata": {},
   "outputs": [],
   "source": [
    "num1 = float(input(\"Introduce el primer número: \"))\n",
    "num2 = float(input(\"Introduce el segundo número: \"))\n",
    "\n",
    "if num1 > num2:\n",
    "  print(\"El primer número es mayor.\")\n",
    "elif num1 < num2:\n",
    "  print(\"El segundo número es mayor.\")\n",
    "else:\n",
    "  print(\"Los dos números son iguales.\")"
   ]
  },
  {
   "cell_type": "markdown",
   "id": "0d265454",
   "metadata": {},
   "source": [
    "### 3.- Escribe un programa que verifique si la longitud de una cadena ingresada por el usuario es mayor a 5 caracteres."
   ]
  },
  {
   "cell_type": "code",
   "execution_count": 2,
   "id": "e1bc4480",
   "metadata": {},
   "outputs": [
    {
     "name": "stdout",
     "output_type": "stream",
     "text": [
      "La cadena es mayor a 5 caracteres.\n"
     ]
    }
   ],
   "source": [
    "cadena = input(\"Introduce una cadena de texto: \")\n",
    "\n",
    "if len(cadena) > 5:\n",
    "  print(\"La cadena es mayor a 5 caracteres.\")\n",
    "else:\n",
    "  print(\"La cadena no es mayor a 5 caracteres.\")"
   ]
  },
  {
   "cell_type": "markdown",
   "id": "4163fbb1",
   "metadata": {},
   "source": [
    "### 4.- Escribe un programa que determine si un número ingresado por el usuario es par o impar."
   ]
  },
  {
   "cell_type": "code",
   "execution_count": 3,
   "id": "3c238749",
   "metadata": {},
   "outputs": [
    {
     "name": "stdout",
     "output_type": "stream",
     "text": [
      "El número es par.\n"
     ]
    }
   ],
   "source": [
    "num = int(input(\"Introduce un número: \"))\n",
    "\n",
    "if num % 2 == 0:\n",
    "  print(\"El número es par.\")\n",
    "else:\n",
    "  print(\"El número es impar.\")"
   ]
  },
  {
   "cell_type": "markdown",
   "id": "1604dc7d",
   "metadata": {},
   "source": [
    "### 5.- Escribe un programa que pida una palabra al usuario y verifique si es un palíndromo (se lee igual hacia adelante que hacia atrás)."
   ]
  },
  {
   "cell_type": "code",
   "execution_count": null,
   "id": "0caf9afb",
   "metadata": {},
   "outputs": [],
   "source": [
    "palabra = input(\"Introduce una palabra: \")\n",
    "\n",
    "palabra = palabra.strip().lower()\n",
    "es_palindromo = True\n",
    "\n",
    "for i in range(len(palabra) // 2):\n",
    "  if palabra[i] != palabra[-(i+1)]:\n",
    "    es_palindromo = False\n",
    "    break\n",
    "\n",
    "if es_palindromo:\n",
    "  print(\"La palabra es un palíndromo.\")\n",
    "else:\n",
    "  print(\"La palabra NO es un palíndromo.\")"
   ]
  },
  {
   "cell_type": "markdown",
   "id": "782dfe71",
   "metadata": {},
   "source": [
    "### 6.- Escribe un programa que pida una cadena al usuario y la convierta a:\n",
    "- Mayúsculas si la cadena tiene más de 10 caracteres.\n",
    "- Minúsculas si tiene 10 o menos caracteres."
   ]
  },
  {
   "cell_type": "code",
   "execution_count": null,
   "id": "bf063c7c",
   "metadata": {},
   "outputs": [],
   "source": [
    "cadena = input(\"Introduce una cadena de texto: \")\n",
    "\n",
    "if len(cadena) > 10: \n",
    "  print(cadena.upper())\n",
    "else:\n",
    "  print(cadena.lower())"
   ]
  },
  {
   "cell_type": "markdown",
   "id": "fc8b4a26",
   "metadata": {},
   "source": [
    "### 7.- Escribe un programa que pida un número al usuario e imprima si el número está en uno de los siguientes rangos:\n",
    "- Menor que 0.\n",
    "- Entre 0 y 10.\n",
    "- Mayor que 10."
   ]
  },
  {
   "cell_type": "code",
   "execution_count": 5,
   "id": "436c0020",
   "metadata": {},
   "outputs": [
    {
     "name": "stdout",
     "output_type": "stream",
     "text": [
      "El número está entre 0 y 10.\n"
     ]
    }
   ],
   "source": [
    "num = float(input(\"Introduce un número: \"))\n",
    "\n",
    "if num < 0:\n",
    "  print(\"El número es menor que 0.\")\n",
    "elif num <= 10:\n",
    "  print(\"El número está entre 0 y 10.\")\n",
    "else:\n",
    "  print(\"El número es mayor que 10.\")"
   ]
  },
  {
   "cell_type": "markdown",
   "id": "06a428fb",
   "metadata": {},
   "source": [
    "### 8.- Escribe un programa que pida una contraseña al usuario. La contraseña debe cumplir los siguientes requisitos:\n",
    "- Tener al menos 8 caracteres.\n",
    "- Contener al menos una letra mayúscula.\n",
    "- Contener al menos un número."
   ]
  },
  {
   "cell_type": "code",
   "execution_count": null,
   "id": "7307b7eb",
   "metadata": {},
   "outputs": [],
   "source": [
    "passwd = input(\"Introduzca su contraseña: \")\n",
    "\n",
    "if len(passwd) < 8:\n",
    "  print(\"La contraseña debe tener más de 8 caracteres.\")\n",
    "elif not any(c.isupper() for c in passwd):\n",
    "  print(\"La contraseña debe contener al menos una letra mayúscula.\")\n",
    "elif not any(c.isdigit() for c in passwd):\n",
    "  print(\"La contraseña debe contener al menos un número.\")\n",
    "else:\n",
    "  print(\"La contraseña es válida.\")"
   ]
  },
  {
   "cell_type": "markdown",
   "id": "743082e1",
   "metadata": {},
   "source": [
    "### 9.- Escribe un programa que pida la edad del usuario y determine en qué categoría se encuentra:\n",
    "- Niño: Menor de 12 años.\n",
    "- Adolescente: Entre 12 y 18 años.\n",
    "- Adulto: Mayor de 18 años."
   ]
  },
  {
   "cell_type": "code",
   "execution_count": null,
   "id": "887ab7b5",
   "metadata": {},
   "outputs": [],
   "source": [
    "edad = float(input(\"Introduzca su edad: \"))\n",
    "\n",
    "if 0 <= edad < 12:\n",
    "  print(\"Eres un niño.\")\n",
    "elif edad <= 18:\n",
    "  print(\"Eres un adolescente.\")\n",
    "elif 18 < edad:\n",
    "  print(\"Eres un adulto.\")\n",
    "else:\n",
    "  print(\"Esa edad no es válida.\")"
   ]
  },
  {
   "cell_type": "markdown",
   "id": "b234b906",
   "metadata": {},
   "source": [
    "### 10.- Escribe un programa que simule una calculadora.\n",
    "- El programa debe pedir al usuario dos números y una operación (+, -, *, /) y realizar el cálculo correspondiente."
   ]
  },
  {
   "cell_type": "code",
   "execution_count": null,
   "id": "9f019a9d",
   "metadata": {},
   "outputs": [],
   "source": [
    "while True:\n",
    "  # Pedir números al usuario\n",
    "  try:\n",
    "    num1 = float(input(\"Introduce el primer número: \"))\n",
    "    num2 = float(input(\"Introduce el segundo número: \"))\n",
    "  except ValueError:\n",
    "    print(\"Por favor, introduce un número válido.\")\n",
    "    continue\n",
    "\n",
    "  operacion = input(\"Introduce la operación (+, -, *, /): \")\n",
    "\n",
    "  if operacion == '+':\n",
    "    resultado = num1 + num2\n",
    "  elif operacion == '-':\n",
    "    resultado = num1 - num2\n",
    "  elif operacion == '*':\n",
    "    resultado = num1 * num2\n",
    "  elif operacion == '/':\n",
    "    if num2 != 0:\n",
    "      resultado = num1 / num2\n",
    "    else:\n",
    "      print(\"Error: No se puede dividir entre cero.\")\n",
    "      continue\n",
    "  else:\n",
    "    print(\"Operación no válida. Intenta de nuevo.\")\n",
    "    continue\n",
    "\n",
    "  print(f\"Resultado: {resultado}\")\n",
    "\n",
    "  salir = input(\"Pulsa 's' para salir o cualquier otra tecla para continuar: \").lower()\n",
    "  if salir == 's':\n",
    "    print(\"Calculadora finalizada.\")\n",
    "    break"
   ]
  },
  {
   "cell_type": "markdown",
   "id": "a709fdf4",
   "metadata": {},
   "source": [
    "## Cadenas"
   ]
  },
  {
   "cell_type": "markdown",
   "id": "23c967b9",
   "metadata": {},
   "source": [
    "### 1.- Escribir por pantalla cada carácter de una cadena introducida por teclado. "
   ]
  },
  {
   "cell_type": "code",
   "execution_count": null,
   "id": "399ca174",
   "metadata": {},
   "outputs": [],
   "source": [
    "cadena = input(\"Introduzca una cadena: \")\n",
    "\n",
    "for c in cadena:\n",
    "  print(c)"
   ]
  },
  {
   "cell_type": "markdown",
   "id": "2795951e",
   "metadata": {},
   "source": [
    "### 2.- Realizar un programa que comprueba si una cadena leída por teclado comienza por una subcadena introducida por teclado. \n"
   ]
  },
  {
   "cell_type": "code",
   "execution_count": null,
   "id": "511285c9",
   "metadata": {},
   "outputs": [],
   "source": [
    "cadena = input(\"Introduzca una cadena: \")\n",
    "subcadena = input(\"Introduzca la subcadena: \")\n",
    "\n",
    "if cadena[:len(subcadena)] == subcadena:\n",
    "  print(\"La cadena \" + cadena + \" comienza por la subcadena \" + subcadena + \".\")\n",
    "else:\n",
    "  print(\"La cadena '\" + cadena + \"' no comienza por la subcadena '\" + subcadena + \"'.\")"
   ]
  },
  {
   "cell_type": "markdown",
   "id": "b2cf64e9",
   "metadata": {},
   "source": [
    "### 3.- Pide una cadena y un carácter por teclado (valida que sea un carácter) y muestra cuantas veces aparece el carácter en la cadena. "
   ]
  },
  {
   "cell_type": "code",
   "execution_count": null,
   "id": "a92d67da",
   "metadata": {},
   "outputs": [],
   "source": [
    "cadena = input(\"Introduzca una cadena: \")\n",
    "caracter = input(\"Introduzca el caracter que busca: \")\n",
    "\n",
    "while len(caracter) != 1:\n",
    "  print(\"Error. Debe introducir un solo caracter.\")\n",
    "  caracter = input(\"Introduzca el caracter que busca: \")\n",
    "\n",
    "print(\"El caracter '\" + caracter + \"' aparece \" + str(cadena.count(caracter)) + \" veces en la cadena '\" + cadena + \"'.\")"
   ]
  },
  {
   "cell_type": "markdown",
   "id": "38416e10",
   "metadata": {},
   "source": [
    "### 4.- Suponiendo que hemos introducido una cadena por teclado que representa una frase (palabras separadas por espacios), realiza un programa que cuente cuántas palabras tiene."
   ]
  },
  {
   "cell_type": "code",
   "execution_count": null,
   "id": "3791acd0",
   "metadata": {},
   "outputs": [],
   "source": [
    "cadena = input(\"Introduzca una cadena: \")\n",
    "\n",
    "numPalabras = cadena.strip().split(\" \")\n",
    "\n",
    "print(\"La cadena contiene \" + str(len(numPalabras)) + \" palabras.\")"
   ]
  },
  {
   "cell_type": "markdown",
   "id": "51e4c8e2",
   "metadata": {},
   "source": [
    "### 5.- Si tenemos una cadena con un nombre y apellidos, realizar un programa que muestre las iniciales en mayúsculas. "
   ]
  },
  {
   "cell_type": "code",
   "execution_count": null,
   "id": "f62e63a3",
   "metadata": {},
   "outputs": [],
   "source": [
    "cadena = input(\"Introduzca su nombre completo: \")\n",
    "\n",
    "nombre = cadena.strip().split(\" \")\n",
    "\n",
    "iniciales = \"\"\n",
    "\n",
    "for n in nombre:\n",
    "  iniciales = iniciales + n[:1]\n",
    "  \n",
    "print(iniciales)"
   ]
  },
  {
   "cell_type": "markdown",
   "id": "07b015a9",
   "metadata": {},
   "source": [
    "### 6.- Realizar un programa que dada una cadena de caracteres por caracteres, genere otra cadena resultado de invertir la primera."
   ]
  },
  {
   "cell_type": "code",
   "execution_count": null,
   "id": "8f693f29",
   "metadata": {},
   "outputs": [],
   "source": [
    "cadena = input(\"Introduzca una cadena: \")\n",
    "\n",
    "invertida = \"\"\n",
    "\n",
    "for c in cadena:\n",
    "  invertida = c + invertida\n",
    "\n",
    "print(invertida)"
   ]
  },
  {
   "cell_type": "markdown",
   "id": "0fb0388a",
   "metadata": {},
   "source": [
    "### 7.- Pide una cadena y dos caracteres por teclado (valida que sea un carácter), sustituye la aparición del primer carácter en la cadena por el segundo carácter. "
   ]
  },
  {
   "cell_type": "code",
   "execution_count": null,
   "id": "6cf8d971",
   "metadata": {},
   "outputs": [],
   "source": [
    "cadena = input(\"Introduzca una cadena: \")\n",
    "\n",
    "char1 = input(\"Introduzca el primer caracter: \")\n",
    "char2 = input(\"Introduzca el segundo caracter: \")\n",
    "\n",
    "if len(char1) == 1 and len(char2) == 1:\n",
    "  cadena = cadena.replace(char1, char2)\n",
    "  print(cadena)\n",
    "else:\n",
    "  print(\"Introduzca un caracter válido.\")"
   ]
  },
  {
   "cell_type": "markdown",
   "id": "934fd1b0",
   "metadata": {},
   "source": [
    "### 8.- Realizar un programa que lea una cadena por teclado y convierta las mayúsculas a minúsculas y viceversa. "
   ]
  },
  {
   "cell_type": "code",
   "execution_count": null,
   "id": "5bbb0ed4",
   "metadata": {},
   "outputs": [],
   "source": [
    "cadena = input(\"Introduzca una cadena: \")\n",
    "\n",
    "cadena2 = \"\"\n",
    "\n",
    "for c in cadena:\n",
    "  if c.isupper():\n",
    "    cadena2 = cadena2 + c.lower()\n",
    "  elif c.islower():\n",
    "    cadena2 = cadena2 + c.upper()\n",
    "\n",
    "print(cadena2)"
   ]
  },
  {
   "cell_type": "markdown",
   "id": "5ad63940",
   "metadata": {},
   "source": [
    "### 9.- Realizar un programa que compruebe si una cadena contiene una subcadena. Las dos cadenas se introducen por teclado. "
   ]
  },
  {
   "cell_type": "code",
   "execution_count": null,
   "id": "d745ef4b",
   "metadata": {},
   "outputs": [],
   "source": [
    "cadena = input(\"Introduzca una cadena: \")\n",
    "subcadena = input(\"Introduzca la subcadena: \")\n",
    "\n",
    "if subcadena in cadena:\n",
    "    print(\"La cadena contiene la subcadena.\")\n",
    "else:\n",
    "    print(\"La cadena NO contiene la subcadena.\")"
   ]
  },
  {
   "cell_type": "markdown",
   "id": "9afdd502",
   "metadata": {},
   "source": [
    "### 10.- Introducir una cadena de caracteres e indicar si es un palíndromo. Una palabra palíndroma es aquella que se lee igual adelante que atrás."
   ]
  },
  {
   "cell_type": "code",
   "execution_count": null,
   "id": "0bab624a",
   "metadata": {},
   "outputs": [],
   "source": [
    "cadena = input(\"Introduzca una cadena: \")\n",
    "\n",
    "if cadena == cadena[::-1]:\n",
    "  print(\"La cadena es un palíndromo.\")\n",
    "else:\n",
    "  print(\"La cadena no es un palíndromo.\")"
   ]
  },
  {
   "cell_type": "markdown",
   "id": "04c71f93",
   "metadata": {},
   "source": [
    "## Listas"
   ]
  },
  {
   "cell_type": "markdown",
   "id": "b937436c",
   "metadata": {},
   "source": [
    "### 1.- Realizar un programa que inicialice una lista con 10 valores aleatorios (del 1 al 10) y posteriormente muestre en pantalla cada elemento de la lista junto con su cuadrado y su cubo."
   ]
  },
  {
   "cell_type": "code",
   "execution_count": null,
   "id": "39d51225",
   "metadata": {},
   "outputs": [],
   "source": [
    "import random\n",
    "\n",
    "nums = [random.randint(1,10) for _ in range(10)]\n",
    "  \n",
    "for num in nums:\n",
    "  print(str(num) + \" - \" + str(num**2) + \" - \" + str(num**3))"
   ]
  },
  {
   "cell_type": "markdown",
   "id": "a93f3d4d",
   "metadata": {},
   "source": [
    "### 2.- Crea una lista e inicializala con 5 cadenas de caracteres leídas por teclado. Copia los elementos de la lista en otra lista pero en orden inverso, y muestra sus elementos por la pantalla. "
   ]
  },
  {
   "cell_type": "code",
   "execution_count": null,
   "id": "be0968c9",
   "metadata": {},
   "outputs": [],
   "source": [
    "lista = []\n",
    "\n",
    "for i in range(5):\n",
    "  cadena = input(\"Introduce una cadena de caracteres: \")\n",
    "  lista.append(cadena)\n",
    "\n",
    "lista_invertida = lista[::-1]\n",
    "\n",
    "for cadena in lista_invertida:\n",
    "  print(cadena)"
   ]
  },
  {
   "cell_type": "markdown",
   "id": "a89777cc",
   "metadata": {},
   "source": [
    "### 3.- Se quiere realizar un programa que lea por teclado las 5 notas obtenidas por un alumno (comprendidas entre 0 y 10). A continuación debe mostrar todas las notas, la nota media, la nota más alta que ha sacado y la menor."
   ]
  },
  {
   "cell_type": "code",
   "execution_count": null,
   "id": "04c5ba24",
   "metadata": {},
   "outputs": [],
   "source": [
    "notas = []\n",
    "\n",
    "for i in range(5):\n",
    "  nota = float(input(\"Introduce una nota (0-10): \"))\n",
    "  while nota < 0 or nota > 10:\n",
    "    print(\"Nota inválida. Debe estar entre 0 y 10.\")\n",
    "    nota = float(input(\"Introduce una nota (0-10): \"))\n",
    "  notas.append(nota)\n",
    "\n",
    "print(\"Notas:\", notas)\n",
    "print(\"Nota media:\", sum(notas)/len(notas))\n",
    "print(\"Nota más alta:\", max(notas))\n",
    "print(\"Nota más baja:\", min(notas))"
   ]
  },
  {
   "cell_type": "markdown",
   "id": "bad32d7c",
   "metadata": {},
   "source": [
    "### 4.- Programa que declare una lista y la vaya llenando de números hasta que introduzcamos un número negativo. Entonces se debe imprimir el vector (sólo los elementos introducidos). "
   ]
  },
  {
   "cell_type": "code",
   "execution_count": null,
   "id": "5533d545",
   "metadata": {},
   "outputs": [],
   "source": [
    "numeros = []\n",
    "\n",
    "num = 0\n",
    "\n",
    "while num >= 0:\n",
    "  num = float(input(\"Introduce un número (negativo para terminar): \"))\n",
    "  if num >= 0:\n",
    "    numeros.append(num)\n",
    "\n",
    "print(\"Números introducidos:\", numeros)"
   ]
  },
  {
   "cell_type": "markdown",
   "id": "a81c8190",
   "metadata": {},
   "source": [
    "### 5.- Hacer un programa que inicialice una lista de números con valores aleatorios (10 valores), y posterior ordene los elementos de menor a mayor. "
   ]
  },
  {
   "cell_type": "code",
   "execution_count": null,
   "id": "1358a659",
   "metadata": {},
   "outputs": [],
   "source": [
    "import random\n",
    "\n",
    "numeros = [random.randint(1, 100) for _ in range(10)]\n",
    "\n",
    "numeros.sort()\n",
    "\n",
    "print(\"Números ordenados de menor a mayor:\", numeros)"
   ]
  },
  {
   "cell_type": "markdown",
   "id": "258f6024",
   "metadata": {},
   "source": [
    "### 6.- Crea un programa que pida un número al usuario un número de mes (por ejemplo, el 4) y  diga cuántos días tiene (por ejemplo, 30) y el nombre del mes. Debes usar listas. Para  simplificarlo vamos a suponer que febrero tiene 28 días."
   ]
  },
  {
   "cell_type": "code",
   "execution_count": null,
   "id": "5ea38003",
   "metadata": {},
   "outputs": [],
   "source": [
    "meses = [\"Enero\", \"Febrero\", \"Marzo\", \"Abril\", \"Mayo\", \"Junio\", \"Julio\", \"Agosto\", \"Septiembre\", \"Octubre\", \"Noviembre\", \"Diciembre\"]\n",
    "\n",
    "num_mes = int(input(\"Introduce un número de mes (1-12): \"))\n",
    "\n",
    "if 1 <= num_mes <= 12:\n",
    "  num_mes -= 1 \n",
    "  if num_mes == 1:\n",
    "    print(f\"{meses[num_mes]} tiene 28 días.\")\n",
    "  elif num_mes % 2 == 0:\n",
    "    print(f\"{meses[num_mes]} tiene 31 días.\")\n",
    "  else:\n",
    "    print(f\"{meses[num_mes]} tiene 30 días.\")\n",
    "else:\n",
    "  print(\"Número de mes inválido. Debe estar entre 1 y 12.\")"
   ]
  },
  {
   "cell_type": "markdown",
   "id": "12673103",
   "metadata": {},
   "source": [
    "### 7.- Programa que declare tres listas ‘lista1’, ‘lista2’ y ‘lista3’ de cinco enteros cada uno, pida valores para ‘lista1’ y ‘lista2’ y calcule lista3=lista1+lista2."
   ]
  },
  {
   "cell_type": "code",
   "execution_count": null,
   "id": "06b979ff",
   "metadata": {},
   "outputs": [],
   "source": [
    "lista1 = []\n",
    "lista2 = []\n",
    "\n",
    "for i in range(5):\n",
    "  num1 = int(input(f\"Introduce el número {i+1} para la lista 1: \"))\n",
    "  lista1.append(num1)\n",
    "\n",
    "for i in range(5):\n",
    "  num2 = int(input(f\"Introduce el número {i+1} para la lista 2: \"))\n",
    "  lista2.append(num2)\n",
    "  \n",
    "lista3 = [lista1[i] + lista2[i] for i in range(5)]\n",
    "\n",
    "print(\"Lista 1:\", lista1)\n",
    "print(\"Lista 2:\", lista2)\n",
    "print(\"Lista 3 (suma de lista 1 y lista 2):\", lista3)"
   ]
  },
  {
   "cell_type": "markdown",
   "id": "d6e264ca",
   "metadata": {},
   "source": [
    "### 8.- Queremos guardar los nombres y la edades de los alumnos de un curso.\n",
    "Realiza un programa que introduzca el nombre y la edad de cada alumno.\n",
    "El proceso de lectura de datos terminará cuando se introduzca como nombre un asterisco (*).\n",
    "Al finalizar se mostrará los siguientes datos: \n",
    "- Todos lo alumnos mayores de edad. \n",
    "- Los alumnos mayores (los que tienen más edad)."
   ]
  },
  {
   "cell_type": "code",
   "execution_count": null,
   "id": "0c5e282d",
   "metadata": {},
   "outputs": [],
   "source": [
    "print(\"Introduce los nombres y edades de los alumnos. Para terminar, introduce '*' como nombre.\")\n",
    "\n",
    "alumnos = [[], []]  # Lista de tuplas (nombre, edad)\n",
    "\n",
    "while True:\n",
    "  nombre = input(\"Nombre del alumno: \")\n",
    "  if nombre == '*':\n",
    "    break\n",
    "  alumnos [0].append(nombre)\n",
    "  edad = int(input(f\"Edad de {nombre}: \"))\n",
    "  alumnos[1].append(edad)\n",
    "\n",
    "mayores_edad = [alumnos[0][i] for i in range(len(alumnos[0])) if alumnos[1][i] >= 18]\n",
    "\n",
    "print(\"\\nAlumnos mayores de edad:\")\n",
    "\n",
    "for alumno in mayores_edad:\n",
    "  print(alumno)\n",
    "\n",
    "edad_maxima = max(alumnos[1]) if alumnos[1] else None\n",
    "alumnos_mayores = [alumnos[0][i] for i in range(len(alumnos[0])) if alumnos[1][i] == edad_maxima] if edad_maxima is not None else []\n",
    "\n",
    "print(\"\\nAlumnos con mayor edad:\")\n",
    "\n",
    "for alumno in alumnos_mayores:\n",
    "  print(alumno) "
   ]
  },
  {
   "cell_type": "markdown",
   "id": "f5d240c9",
   "metadata": {},
   "source": [
    "### 9.- Queremos guardar la temperatura mínima y máxima de 5 días. Realiza un programa que  de la siguiente información:\n",
    "- La temperatura media de cada día \n",
    "- Los días con menos temperatura \n",
    "- Se lee una temperatura por teclado y se muestran los días cuya temperatura máxima coincide con ella. si no existe ningún día se muestra un mensaje de información."
   ]
  },
  {
   "cell_type": "code",
   "execution_count": null,
   "id": "46c68e71",
   "metadata": {},
   "outputs": [],
   "source": [
    "print(\"Introduce las temperaturas mínimas y máximas de 5 días.\")\n",
    "\n",
    "dias = [[], [], []]  # Lista de tuplas (temp_min, temp_max, temp_media)\n",
    "\n",
    "for i in range(5):\n",
    "  temp_min = float(input(f\"Temperatura mínima del día {i+1}: \"))\n",
    "  dias[0].append(temp_min)\n",
    "  temp_max = float(input(f\"Temperatura máxima del día {i+1}: \"))\n",
    "  dias[1].append(temp_max)\n",
    "  temp_media = (temp_min + temp_max) / 2\n",
    "  dias[2].append(temp_media)\n",
    "  print(\"--------------------\")\n",
    "\n",
    "print(\"Temperaturas medias de cada día:\")\n",
    "for i in range(5):\n",
    "  print(f\"Día {i+1}: {dias[2][i]:.0f}°C\")\n",
    "\n",
    "temp_minima = min(dias[0])\n",
    "dias_menor_temp = [i+1 for i in range(5) if dias[0][i] == temp_minima]\n",
    "print(f\"Los días {dias_menor_temp} tienen la temperatura mínima: {temp_minima:.0f}°C\")\n",
    "\n",
    "temp_buscada = float(input(\"Introduce una temperatura máxima a buscar: \"))\n",
    "dias_con_temp = [i+1 for i in range(5) if dias[1][i] == temp_buscada]\n",
    "if dias_con_temp:\n",
    "  print(f\"Los días con temperatura máxima de {temp_buscada:.0f}°C son los días {dias_con_temp}\")\n",
    "else:\n",
    "  print(f\"No hay días con temperatura máxima de {temp_buscada:.0f}°C.\")"
   ]
  },
  {
   "cell_type": "markdown",
   "id": "617f52eb",
   "metadata": {},
   "source": [
    "### 10.- Diseñar el algoritmo correspondiente a un programa, que: \n",
    "- Crea una tabla (lista con dos dimensiones) de 5x5 enteros. \n",
    "- Carga la tabla con valores numéricos enteros. \n",
    "- Suma todos los elementos de cada fila y todos los elementos de cada columna visualizando los resultados en pantalla. "
   ]
  },
  {
   "cell_type": "code",
   "execution_count": null,
   "id": "0f85ba00",
   "metadata": {},
   "outputs": [],
   "source": [
    "import random\n",
    "\n",
    "tabla = []\n",
    "\n",
    "for i in range(5):\n",
    "  fila = []\n",
    "  for j in range(5):\n",
    "    fila.append(random.randint(1, 100))\n",
    "  tabla.append(fila)\n",
    "\n",
    "suma_filas = [sum(fila) for fila in tabla]\n",
    "suma_columnas = [sum(tabla[i][j] for i in range(5)) for j in range(5)]\n",
    "\n",
    "print(\"Tabla:\")\n",
    "for idx, fila in enumerate(tabla):\n",
    "    # Convertimos cada número a string y lo alineamos a la derecha con 4 espacios\n",
    "    fila_str = \" \".join(str(num).rjust(4) for num in fila)\n",
    "    print(f\"{fila_str} | {suma_filas[idx]:>4}\")\n",
    "\n",
    "print(\"-\" * 32)\n",
    "\n",
    "# Imprimir suma de columnas alineada con la tabla\n",
    "columnas_str = \" \".join(str(num).rjust(4) for num in suma_columnas)\n",
    "print(f\"{columnas_str} | {sum(suma_filas) + sum(suma_columnas)}\")"
   ]
  },
  {
   "cell_type": "markdown",
   "id": "8ee5d694",
   "metadata": {},
   "source": [
    "### 11.- Diseñar el algoritmo correspondiente a un programa, que: \n",
    "- Crea una tabla bidimensional de longitud 5x5 y nombre ‘diagonal’. \n",
    "- Carga la tabla de forma que los componentes pertenecientes a la diagonal de la matriz tomen el valor 1 y el resto el valor 0. \n",
    "- Muestra el contenido de la tabla en pantalla."
   ]
  },
  {
   "cell_type": "code",
   "execution_count": 1,
   "id": "1146f2b0",
   "metadata": {},
   "outputs": [
    {
     "name": "stdout",
     "output_type": "stream",
     "text": [
      "Tabla diagonal:\n",
      "1  0  0  0  0\n",
      "0  1  0  0  0\n",
      "0  0  1  0  0\n",
      "0  0  0  1  0\n",
      "0  0  0  0  1\n"
     ]
    }
   ],
   "source": [
    "diagonal = []\n",
    "\n",
    "for i in range(5):\n",
    "  fila = []\n",
    "  for j in range(5):\n",
    "    if i == j:\n",
    "      fila.append(1)\n",
    "    else:\n",
    "      fila.append(0)\n",
    "  diagonal.append(fila)\n",
    "\n",
    "print(\"Tabla diagonal:\")\n",
    "for fila in diagonal:\n",
    "  print(\"  \".join(str(num) for num in fila))"
   ]
  },
  {
   "cell_type": "markdown",
   "id": "50af8132",
   "metadata": {},
   "source": [
    "### 12.- Diseñar el algoritmo correspondiente a un programa, que: \n",
    "- Crea una tabla bidimensional de longitud 5x15 y nombre ‘marco’. \n",
    "- Carga la tabla con dos únicos valores 0 y 1, donde el valor uno ocupará las  posiciones o elementos que delimitan la tabla, es decir, las más externas, mientras  que el resto de los elementos contendrán el valor 0.\n",
    "- Muestra el contenido de la tabla en pantalla."
   ]
  },
  {
   "cell_type": "code",
   "execution_count": 45,
   "id": "7392696e",
   "metadata": {},
   "outputs": [
    {
     "name": "stdout",
     "output_type": "stream",
     "text": [
      "Tabla marco:\n",
      "1  1  1\n",
      "1  0  1\n",
      "1  1  1\n"
     ]
    }
   ],
   "source": [
    "tabla = []\n",
    "\n",
    "filas = int(input(\"Introduce el número de filas: \"))\n",
    "columnas = int(input(\"Introduce el número de columnas: \"))\n",
    "\n",
    "for i in range(filas):\n",
    "  fila = []\n",
    "  for j in range(columnas):\n",
    "    if i == 0 or i == filas - 1 or j == 0 or j == columnas - 1:\n",
    "      fila.append(1)\n",
    "    else:\n",
    "      fila.append(0)\n",
    "  tabla.append(fila)\n",
    "\n",
    "print(\"Tabla marco:\")\n",
    "for fila in tabla:\n",
    "  print(\"  \".join(str(num) for num in fila))"
   ]
  },
  {
   "cell_type": "markdown",
   "id": "4507ed2d",
   "metadata": {},
   "source": [
    "### 13.- De una empresa de transporte se quiere guardar el nombre de los conductores que tiene,  y los kilómetros que conducen cada día de la semana.\n",
    "- Para guardar esta información se van a utilizar dos arrays: \n",
    "  - nombres: Lista para guardar los nombres de los conductores. \n",
    "  - kms: Tabla para guardar los kilómetros que realizan cada día de la semana. \n",
    "- Se quiere generar una nueva lista (“total_kms”) con los kilómetros totales que realza cada  conductor.\n",
    "- Al finalizar se muestra la lista con los nombres de conductores y los kilómetros que ha realizado."
   ]
  },
  {
   "cell_type": "code",
   "execution_count": 75,
   "id": "b6511d4b",
   "metadata": {},
   "outputs": [
    {
     "name": "stdout",
     "output_type": "stream",
     "text": [
      "        Pepe  Juan \n",
      "Lun     5     10  \n",
      "Mar     5     10  \n",
      "Mié     5     10  \n",
      "Jue     5     10  \n",
      "Vie     5     10  \n",
      "Sáb     5     10  \n",
      "Dom     5     10  \n",
      "Total   35    70  \n"
     ]
    }
   ],
   "source": [
    "nombres = []\n",
    "kms = []\n",
    "total_kms = []\n",
    "\n",
    "while True:\n",
    "  nombre = input(\"Introduce el nombre del conductor (o 'fin' para terminar): \")\n",
    "  if nombre.lower() == 'fin':\n",
    "    break\n",
    "  nombres.append(nombre)\n",
    "    \n",
    "  km_dia = []\n",
    "  for dia in [\"lunes\", \"martes\", \"miércoles\", \"jueves\", \"viernes\", \"sábado\", \"domingo\"]:\n",
    "    km = float(input(f\"Introduce los kilómetros recorridos el {dia}: \"))\n",
    "    km_dia.append(km)\n",
    "  kms.append(km_dia)\n",
    "\n",
    "for i in range(len(nombres)):\n",
    "  total = sum(kms[i])\n",
    "  total_kms.append(total)\n",
    "\n",
    "dias = [\"Lun\", \"Mar\", \"Mié\", \"Jue\", \"Vie\", \"Sáb\", \"Dom\"]\n",
    "\n",
    "# Definir ancho de columna para centrar\n",
    "ancho = 6\n",
    "\n",
    "# Imprimir encabezado (nombres)\n",
    "print(\"       \", end=\"\")  # espacio para la columna de días\n",
    "print(\"\".join(nombre.center(ancho) for nombre in nombres))\n",
    "\n",
    "# Imprimir cada fila con el día y los kms\n",
    "for dia_idx in range(7):\n",
    "    print(dias[dia_idx].ljust(5), end=\" \")  # día alineado a la izquierda\n",
    "    print(\"\".join(str(int(kms[i][dia_idx])).center(ancho) for i in range(len(nombres))))\n",
    "\n",
    "# Imprimir fila de totales\n",
    "print(\"Total\".ljust(5), end=\" \") # \"Total\" alineado a la izquierda\n",
    "print(\"\".join(str(int(total_kms[i])).center(ancho) for i in range(len(nombres))))\n"
   ]
  },
  {
   "cell_type": "markdown",
   "id": "74e5a402",
   "metadata": {},
   "source": [
    "### 14.- Crear un programa que lea los precios de 5 artículos y las cantidades vendidas por una  empresa en sus 4 sucursales.\n",
    "- Informar:\n",
    "  - Las cantidades totales de cada articulo. \n",
    "  - La cantidad de artículos en la sucursal 2. \n",
    "  - La cantidad del articulo 3 en la sucursal 1. \n",
    "  - La recaudación total de cada sucursal. \n",
    "  - La recaudación total de la empresa. \n",
    "  - La sucursal de mayor recaudación. sucursalMayor"
   ]
  },
  {
   "cell_type": "code",
   "execution_count": null,
   "id": "63ed7416",
   "metadata": {},
   "outputs": [
    {
     "name": "stdout",
     "output_type": "stream",
     "text": [
      "Sucursal de Cádiz:\n",
      "Sucursal de Puerto Real:\n",
      "Sucursal de San Fernando:\n",
      "Sucursal de Chiclana:\n",
      "\n",
      "Resumen de ventas:\n",
      "Sucursal       Pan         Detergente  Cereales    Flan        Atún        Total     \n",
      "-------------------------------------------------------------------------------------\n",
      "Cádiz          0.60        €4.20        €9.00        €8.00        €20.00       €41.80     €\n",
      "Puerto Real    3.60        €14.70       €24.00       €18.00       €40.00       €100.30    €\n",
      "San Fernando   6.60        €25.20       €39.00       €28.00       €4.00        €102.80    €\n",
      "Chiclana       3.00        €33.60       €51.00       €36.00       €76.00       €199.60    €\n",
      "\n",
      "\n",
      "Cantidad total de Pan: 23\n",
      "Cantidad total de Detergente: 37\n",
      "Cantidad total de Cereales: 41\n",
      "Cantidad total de Flan: 45\n",
      "Cantidad total de Atún: 35\n",
      "\n",
      "\n",
      "Cantidad total de artículos en la sucursal de Puerto Real: 40\n",
      "\n",
      "\n",
      "Cantidad de Cereales en la sucursal de Cádiz: 3\n",
      "\n",
      "\n",
      "Recaudación total de la sucursal Cádiz: 41.80\n",
      "Recaudación total de la sucursal Puerto Real: 100.30\n",
      "Recaudación total de la sucursal San Fernando: 102.80\n",
      "Recaudación total de la sucursal Chiclana: 199.60\n",
      "\n",
      "\n",
      "Recaudación total de la empresa: 444.50\n",
      "\n",
      "\n",
      "Sucursal(es) de mayor recaudación: Chiclana con 199.60€\n"
     ]
    }
   ],
   "source": [
    "precios = [0.60, 2.10, 3, 2, 4]\n",
    "articulos = [\"Pan\", \"Detergente\", \"Cereales\", \"Flan\", \"Atún\"]\n",
    "sucursales = [\"Cádiz\", \"Puerto Real\", \"San Fernando\", \"Chiclana\"]\n",
    "\n",
    "ventas = []  # Lista de tuplas (sucursal, [cantidades])\n",
    "\n",
    "for sucursal in sucursales:\n",
    "  fila = []\n",
    "  print(f\"Sucursal de {sucursal}:\")\n",
    "  for articulo in articulos:\n",
    "    while True:\n",
    "      try:\n",
    "        cantidad = int(input(f\"  Cantidad vendida de {articulo}: \"))\n",
    "        break\n",
    "      except ValueError:\n",
    "        print(\"Error: Introduce un número entero válido.\")\n",
    "        continue\n",
    "    fila.append(cantidad)\n",
    "  ventas.append(fila)\n",
    "\n",
    "print(\"\\nResumen de ventas:\")\n",
    "# Cabecera\n",
    "print(f\"{'Sucursal':<15}\", end=\"\")\n",
    "for art in articulos:\n",
    "    print(f\"{art:<12}\", end=\"\")\n",
    "print(f\"{'Total':<10}\")\n",
    "print(\"-\" * (15 + 12 * len(articulos) + 10))\n",
    "\n",
    "# Filas por sucursal\n",
    "for idx, sucursal in enumerate(sucursales):\n",
    "    fila = ventas[idx]\n",
    "    total = 0\n",
    "    print(f\"{sucursal:<15}\", end=\"\")\n",
    "    for j, cantidad in enumerate(fila):\n",
    "        valor = cantidad * precios[j]\n",
    "        total += valor\n",
    "        print(f\"{valor:<12.2f}\", end=\"\")\n",
    "    print(f\"{total:<10.2f}\")\n",
    "\n",
    "print(\"\\n\")\n",
    "\n",
    "# Cantidades totales de cada artículo\n",
    "for i in range(5):\n",
    "  total_articulo = sum(ventas[sucursal][i] for sucursal in range(4))\n",
    "  print(f\"Cantidad total de {articulos[i]}: {total_articulo}\")\n",
    "\n",
    "print(\"\\n\")\n",
    "\n",
    "# Cantidad de artículos en la sucursal 2\n",
    "total_sucursal2 = sum(ventas[1])\n",
    "print(f\"Cantidad total de artículos en la sucursal de {sucursales[1]}: {total_sucursal2}\")\n",
    "\n",
    "print(\"\\n\")\n",
    "\n",
    "# Cantidad del artículo 3 en la sucursal 1\n",
    "cantidad_articulo3_sucursal1 = ventas[0][2]\n",
    "print(f\"Cantidad de {articulos[2]} en la sucursal de {sucursales[0]}: {cantidad_articulo3_sucursal1}\")\n",
    "\n",
    "print(\"\\n\")\n",
    "\n",
    "# Recaudación total de cada sucursal\n",
    "recaudacion_sucursales = []\n",
    "for sucursal in range(len(sucursales)):\n",
    "  recaudacion = sum(ventas[sucursal][articulo] * precios[articulo] for articulo in range(len(articulos)))\n",
    "  recaudacion_sucursales.append(recaudacion)\n",
    "  print(f\"Recaudación total de la sucursal {sucursales[sucursal]}: {recaudacion:.2f}\")\n",
    "\n",
    "print(\"\\n\")\n",
    "\n",
    "# Recaudación total de la empresa\n",
    "recaudacion_total = sum(recaudacion_sucursales)\n",
    "print(f\"Recaudación total de la empresa: {recaudacion_total:.2f}\")\n",
    "\n",
    "print(\"\\n\")\n",
    "\n",
    "max_recaudacion = max(recaudacion_sucursales)\n",
    "sucursales_mayores = [sucursales[i] for i, recaudacion in enumerate(recaudacion_sucursales) if recaudacion == max_recaudacion]\n",
    "print(f\"Sucursal(es) de mayor recaudación: {', '.join(sucursales_mayores)} con {max_recaudacion:.2f}€\")\n"
   ]
  },
  {
   "cell_type": "markdown",
   "id": "aa6a5ff8",
   "metadata": {},
   "source": [
    "### 15.- Vamos a crear un programa que tenga el siguiente menú: \n",
    "1. Añadir número a la lista: Me pide un número de la lista y lo añade al final de la  lista. \n",
    "2. Añadir número de la lista en una posición: Me pide un número y una posición, y  si la posición existe en la lista lo añade a ella (la posición se pide a partir de 1). \n",
    "3. Longitud de la lista: te muestra el número de elementos de la lista. 4. Eliminar el último número: Muestra el último número de la lista y lo borra. \n",
    "5. Eliminar un número: Pide una posición, y si la posición existe en la lista lo borra  de ella (la posición se pide a partir de 1). \n",
    "6. Contar números: Te pide un número y te dice cuantas apariciones hay en la lista. \n",
    "7. Posiciones de un número: Te pide un número y te dice en que posiciones está  (contando desde 1).\n",
    "8. Mostrar números: Muestra los números de la lista\n"
   ]
  },
  {
   "cell_type": "code",
   "execution_count": null,
   "id": "f68e0cac",
   "metadata": {},
   "outputs": [
    {
     "name": "stdout",
     "output_type": "stream",
     "text": [
      "\n",
      "Menú:\n",
      "1. Añadir número a la lista\n",
      "2. Añadir número de la lista en una posición\n",
      "3. Longitud de la lista\n",
      "4. Eliminar un número\n",
      "5. Contar números\n",
      "6. Posiciones de un número\n",
      "7. Mostrar números\n",
      "0. Salir\n",
      "Número 5 añadido a la lista.\n",
      "\n",
      "Menú:\n",
      "1. Añadir número a la lista\n",
      "2. Añadir número de la lista en una posición\n",
      "3. Longitud de la lista\n",
      "4. Eliminar un número\n",
      "5. Contar números\n",
      "6. Posiciones de un número\n",
      "7. Mostrar números\n",
      "0. Salir\n",
      "Posición no válida.\n",
      "Posición no válida.\n",
      "Posición no válida.\n",
      "Número 5 añadido en la posición 1.\n",
      "\n",
      "Menú:\n",
      "1. Añadir número a la lista\n",
      "2. Añadir número de la lista en una posición\n",
      "3. Longitud de la lista\n",
      "4. Eliminar un número\n",
      "5. Contar números\n",
      "6. Posiciones de un número\n",
      "7. Mostrar números\n",
      "0. Salir\n",
      "Posición no válida.\n",
      "Número 4 añadido en la posición 1.\n",
      "\n",
      "Menú:\n",
      "1. Añadir número a la lista\n",
      "2. Añadir número de la lista en una posición\n",
      "3. Longitud de la lista\n",
      "4. Eliminar un número\n",
      "5. Contar números\n",
      "6. Posiciones de un número\n",
      "7. Mostrar números\n",
      "0. Salir\n",
      "Saliendo del programa.\n"
     ]
    }
   ],
   "source": [
    "num = []\n",
    "\n",
    "while True:\n",
    "  \n",
    "  print(\"\\nMenú:\")\n",
    "  print(\"1. Añadir número a la lista\")\n",
    "  print(\"2. Añadir número de la lista en una posición\")\n",
    "  print(\"3. Longitud de la lista\")\n",
    "  print(\"4. Eliminar último número\")\n",
    "  print(\"5. Eliminar un número\")\n",
    "  print(\"6. Contar números\")\n",
    "  print(\"7. Posiciones de un número\")\n",
    "  print(\"8. Mostrar números\")\n",
    "  print(\"0. Salir\")\n",
    "  \n",
    "  print(num)\n",
    "  \n",
    "  opcion = input(\"Elige una opción: \")\n",
    "  \n",
    "  if opcion == '0':\n",
    "    print(\"Saliendo del programa.\")\n",
    "    break\n",
    "  elif opcion == '1':\n",
    "    numero = int(input(\"Introduce un número para añadir a la lista: \"))\n",
    "    num.append(numero)\n",
    "    print(f\"Número {numero} añadido a la lista.\")\n",
    "  elif opcion == '2':\n",
    "    numero = int(input(\"Introduce un número para añadir a la lista: \"))\n",
    "    while True:\n",
    "      posicion = int(input(\"Introduce la posición: \")) - 1\n",
    "      if 0 <= posicion <= len(num):\n",
    "        num.insert(posicion, numero)\n",
    "        print(f\"Número {numero} añadido en la posición {posicion}.\")\n",
    "        break\n",
    "      else:\n",
    "        print(\"Posición no válida.\")\n",
    "  elif opcion == '3':\n",
    "    print(f\"La longitud de la lista es: {len(num)}\")\n",
    "  elif opcion == '4':\n",
    "    if num:\n",
    "      ultimo_numero = num.pop()\n",
    "      print(f\"Número {ultimo_numero} eliminado de la lista.\")\n",
    "    else:\n",
    "      print(\"La lista está vacía.\")\n",
    "  elif opcion == '5':\n",
    "    if num:\n",
    "      while True:\n",
    "        posicion = int(input(\"Introduce la posición a eliminar: \")) - 1\n",
    "        if 0 <= posicion < len(num):\n",
    "          eliminado = num.pop(posicion)\n",
    "          print(f\"Número {eliminado} eliminado de la posición {posicion + 1}.\")\n",
    "          break\n",
    "        else:\n",
    "          print(\"Posición no válida.\")\n",
    "    else:\n",
    "      print(\"La lista está vacía.\")\n",
    "  elif opcion == '6':\n",
    "    numero = int(input(\"Introduce un número para contar sus apariciones: \"))\n",
    "    apariciones = num.count(numero)\n",
    "    print(f\"El número {numero} aparece {apariciones} veces en la lista.\")\n",
    "  elif opcion == '7':\n",
    "    numero = int(input(\"Introduce un número para encontrar sus posiciones: \"))\n",
    "    posiciones = [i + 1 for i, x in enumerate(num) if x == numero]\n",
    "    if posiciones:\n",
    "      print(f\"El número {numero} está en las posiciones: {posiciones}\")\n",
    "    else:\n",
    "      print(f\"El número {numero} no está en la lista.\")\n",
    "  elif opcion == '8':\n",
    "    print(\"Números en la lista:\", num)"
   ]
  },
  {
   "cell_type": "markdown",
   "id": "11185bbc",
   "metadata": {},
   "source": [
    "### 16.- Crear un programa de ordenador para gestionar los resultados de la quiniela de fútbol.\n",
    "Crear un programa que añada números a una lista hasta que introducimos un número  negativo. A continuación debe crear una nueva lista igual que la anterior pero eliminando  los números duplicados. Muestra esta segunda lista para comprobar que hemos  eliminados los duplicados. \n"
   ]
  },
  {
   "cell_type": "code",
   "execution_count": 18,
   "id": "8ce0b344",
   "metadata": {},
   "outputs": [
    {
     "name": "stdout",
     "output_type": "stream",
     "text": [
      "Números sin duplicados: [1.0, 2.0, 3.0, 4.0, 5.0, 6.0, 7.0, 8.0, 9.0, 10.0]\n"
     ]
    }
   ],
   "source": [
    "num = []\n",
    "\n",
    "while True:\n",
    "  numero = float(input(\"Introduce un número (negativo para terminar): \"))\n",
    "  if numero < 0:\n",
    "    break\n",
    "  num.append(numero)\n",
    "\n",
    "num_sin_duplicados = list(set(num))\n",
    "print(\"Números sin duplicados:\", num_sin_duplicados)"
   ]
  },
  {
   "cell_type": "markdown",
   "id": "f837a67a",
   "metadata": {},
   "source": [
    "### 17.- Escriba un programa que permita crear una lista de palabras y que, a continuación de tres  opciones: \n",
    "1. Añadir: Me pide una cadena, y la añade al final de la lista.\n",
    "2. Contar: Me pide una cadena, y me dice cuantas veces aparece en la lista.\n",
    "3. Modificar: Me pide una cadena, y otra cadena a modificar, y modifica todas las apariciones de la primera por la segunda en la lista. \n",
    "4. Eliminar: Me pide una cadena, y la elimina de la lista. \n",
    "5. Mostrar: Muestra la lista de cadenas.\n",
    "0. Terminar"
   ]
  },
  {
   "cell_type": "code",
   "execution_count": 19,
   "id": "a09a306d",
   "metadata": {},
   "outputs": [
    {
     "name": "stdout",
     "output_type": "stream",
     "text": [
      "\n",
      "Menú:\n",
      "1. Añadir\n",
      "2. Contar\n",
      "3. Modificar\n",
      "4. Eliminar\n",
      "5. Mostrar\n",
      "0. Terminar\n",
      "Cadena 'a' añadida a la lista.\n",
      "\n",
      "Menú:\n",
      "1. Añadir\n",
      "2. Contar\n",
      "3. Modificar\n",
      "4. Eliminar\n",
      "5. Mostrar\n",
      "0. Terminar\n",
      "Cadena 'b' añadida a la lista.\n",
      "\n",
      "Menú:\n",
      "1. Añadir\n",
      "2. Contar\n",
      "3. Modificar\n",
      "4. Eliminar\n",
      "5. Mostrar\n",
      "0. Terminar\n",
      "Cadena 'c' añadida a la lista.\n",
      "\n",
      "Menú:\n",
      "1. Añadir\n",
      "2. Contar\n",
      "3. Modificar\n",
      "4. Eliminar\n",
      "5. Mostrar\n",
      "0. Terminar\n",
      "Cadena 'e' añadida a la lista.\n",
      "\n",
      "Menú:\n",
      "1. Añadir\n",
      "2. Contar\n",
      "3. Modificar\n",
      "4. Eliminar\n",
      "5. Mostrar\n",
      "0. Terminar\n",
      "Cadena 'f' añadida a la lista.\n",
      "\n",
      "Menú:\n",
      "1. Añadir\n",
      "2. Contar\n",
      "3. Modificar\n",
      "4. Eliminar\n",
      "5. Mostrar\n",
      "0. Terminar\n",
      "Cadena 'g' añadida a la lista.\n",
      "\n",
      "Menú:\n",
      "1. Añadir\n",
      "2. Contar\n",
      "3. Modificar\n",
      "4. Eliminar\n",
      "5. Mostrar\n",
      "0. Terminar\n",
      "Cadena 'h' añadida a la lista.\n",
      "\n",
      "Menú:\n",
      "1. Añadir\n",
      "2. Contar\n",
      "3. Modificar\n",
      "4. Eliminar\n",
      "5. Mostrar\n",
      "0. Terminar\n",
      "Cadena 'i' añadida a la lista.\n",
      "\n",
      "Menú:\n",
      "1. Añadir\n",
      "2. Contar\n",
      "3. Modificar\n",
      "4. Eliminar\n",
      "5. Mostrar\n",
      "0. Terminar\n",
      "Cadena 'j' añadida a la lista.\n",
      "\n",
      "Menú:\n",
      "1. Añadir\n",
      "2. Contar\n",
      "3. Modificar\n",
      "4. Eliminar\n",
      "5. Mostrar\n",
      "0. Terminar\n",
      "Cadena 'k' añadida a la lista.\n",
      "\n",
      "Menú:\n",
      "1. Añadir\n",
      "2. Contar\n",
      "3. Modificar\n",
      "4. Eliminar\n",
      "5. Mostrar\n",
      "0. Terminar\n",
      "La cadena 'a' aparece 1 veces en la lista.\n",
      "\n",
      "Menú:\n",
      "1. Añadir\n",
      "2. Contar\n",
      "3. Modificar\n",
      "4. Eliminar\n",
      "5. Mostrar\n",
      "0. Terminar\n",
      "Cadena 'a' añadida a la lista.\n",
      "\n",
      "Menú:\n",
      "1. Añadir\n",
      "2. Contar\n",
      "3. Modificar\n",
      "4. Eliminar\n",
      "5. Mostrar\n",
      "0. Terminar\n",
      "Cadena 'a' añadida a la lista.\n",
      "\n",
      "Menú:\n",
      "1. Añadir\n",
      "2. Contar\n",
      "3. Modificar\n",
      "4. Eliminar\n",
      "5. Mostrar\n",
      "0. Terminar\n",
      "Cadena 'a' añadida a la lista.\n",
      "\n",
      "Menú:\n",
      "1. Añadir\n",
      "2. Contar\n",
      "3. Modificar\n",
      "4. Eliminar\n",
      "5. Mostrar\n",
      "0. Terminar\n",
      "La cadena 'a' aparece 4 veces en la lista.\n",
      "\n",
      "Menú:\n",
      "1. Añadir\n",
      "2. Contar\n",
      "3. Modificar\n",
      "4. Eliminar\n",
      "5. Mostrar\n",
      "0. Terminar\n",
      "Todas las apariciones de 'a' han sido modificadas a 'z'.\n",
      "\n",
      "Menú:\n",
      "1. Añadir\n",
      "2. Contar\n",
      "3. Modificar\n",
      "4. Eliminar\n",
      "5. Mostrar\n",
      "0. Terminar\n",
      "Cadenas en la lista: ['z', 'b', 'c', 'e', 'f', 'g', 'h', 'i', 'j', 'k', 'z', 'z', 'z']\n",
      "\n",
      "Menú:\n",
      "1. Añadir\n",
      "2. Contar\n",
      "3. Modificar\n",
      "4. Eliminar\n",
      "5. Mostrar\n",
      "0. Terminar\n",
      "Todas las apariciones de 'z' han sido eliminadas de la lista.\n",
      "\n",
      "Menú:\n",
      "1. Añadir\n",
      "2. Contar\n",
      "3. Modificar\n",
      "4. Eliminar\n",
      "5. Mostrar\n",
      "0. Terminar\n",
      "Cadenas en la lista: ['b', 'c', 'e', 'f', 'g', 'h', 'i', 'j', 'k']\n",
      "\n",
      "Menú:\n",
      "1. Añadir\n",
      "2. Contar\n",
      "3. Modificar\n",
      "4. Eliminar\n",
      "5. Mostrar\n",
      "0. Terminar\n",
      "Saliendo del programa.\n"
     ]
    }
   ],
   "source": [
    "cadenas = []\n",
    "\n",
    "while True:\n",
    "  print(\"\\nMenú:\")\n",
    "  print(\"1. Añadir\")\n",
    "  print(\"2. Contar\")\n",
    "  print(\"3. Modificar\")\n",
    "  print(\"4. Eliminar\")\n",
    "  print(\"5. Mostrar\")\n",
    "  print(\"0. Terminar\")\n",
    "  \n",
    "  opcion = input(\"Elige una opción: \")\n",
    "  \n",
    "  if opcion == '0':\n",
    "    print(\"Saliendo del programa.\")\n",
    "    break\n",
    "  elif opcion == '1':\n",
    "    cadena = input(\"Introduce una cadena para añadir a la lista: \")\n",
    "    cadenas.append(cadena)\n",
    "    print(f\"Cadena '{cadena}' añadida a la lista.\")\n",
    "  elif opcion == '2':\n",
    "    cadena = input(\"Introduce una cadena para contar sus apariciones: \")\n",
    "    apariciones = cadenas.count(cadena)\n",
    "    print(f\"La cadena '{cadena}' aparece {apariciones} veces en la lista.\")\n",
    "  elif opcion == '3':\n",
    "    cadena_vieja = input(\"Introduce la cadena a modificar: \")\n",
    "    if cadena_vieja in cadenas:\n",
    "      cadena_nueva = input(\"Introduce la nueva cadena: \")\n",
    "      cadenas = [cadena_nueva if c == cadena_vieja else c for c in cadenas]\n",
    "      print(f\"Todas las apariciones de '{cadena_vieja}' han sido modificadas a '{cadena_nueva}'.\")\n",
    "    else:\n",
    "      print(f\"La cadena '{cadena_vieja}' no está en la lista.\")\n",
    "  elif opcion == '4':\n",
    "    cadena = input(\"Introduce una cadena para eliminar: \")\n",
    "    if cadena in cadenas:\n",
    "      cadenas = [c for c in cadenas if c != cadena]\n",
    "      print(f\"Todas las apariciones de '{cadena}' han sido eliminadas de la lista.\")\n",
    "    else:\n",
    "      print(f\"La cadena '{cadena}' no está en la lista.\")\n",
    "  elif opcion == '5':\n",
    "    print(\"Cadenas en la lista:\", cadenas)"
   ]
  },
  {
   "cell_type": "markdown",
   "id": "663f1b47",
   "metadata": {},
   "source": [
    "### 18.- Suma de elementos\n",
    "Dada una lista de números, crea una función que recorra la lista y devuelva la suma de todos sus elementos.\n"
   ]
  },
  {
   "cell_type": "code",
   "execution_count": 53,
   "id": "c7e2fd2f",
   "metadata": {},
   "outputs": [
    {
     "name": "stdout",
     "output_type": "stream",
     "text": [
      "Números generados: [80, 1, 65, 5, 40, 55, 9, 36, 40, 45, 92, 56, 83, 91, 37]\n",
      "Suma de los elementos: 735\n"
     ]
    }
   ],
   "source": [
    "import random\n",
    "\n",
    "def suma_elementos(lista):\n",
    "  suma = 0\n",
    "  for num in lista:\n",
    "    suma += num\n",
    "  return suma\n",
    "\n",
    "nums = []\n",
    "\n",
    "for i in range(random.randint(5, 15)):\n",
    "  nums.append(random.randint(1, 100))\n",
    "\n",
    "print(\"Números generados:\", nums)\n",
    "\n",
    "print(\"Suma de los elementos:\", suma_elementos(nums))"
   ]
  },
  {
   "cell_type": "markdown",
   "id": "c6a44d39",
   "metadata": {},
   "source": [
    "### 19.- Contar elementos mayores que un valor\n",
    "Dada una lista de números, crea una función que recorra la lista y cuente cuántos elementos son mayores que un número dado."
   ]
  },
  {
   "cell_type": "code",
   "execution_count": 55,
   "id": "8c2ec7a4",
   "metadata": {},
   "outputs": [
    {
     "name": "stdout",
     "output_type": "stream",
     "text": [
      "Números generados: [43, 39, 22, 50, 11, 58, 43, 97, 18, 50, 51]\n",
      "Números mayores que 5: 11\n"
     ]
    }
   ],
   "source": [
    "import random\n",
    "\n",
    "def contar_mayores(lista, valor):\n",
    "  contador = 0\n",
    "  for num in lista:\n",
    "    if num > valor:\n",
    "      contador += 1\n",
    "  return contador\n",
    "\n",
    "nums = []\n",
    "\n",
    "for i in range(random.randint(5, 15)):\n",
    "  nums.append(random.randint(1, 100))\n",
    "\n",
    "print(\"Números generados:\", nums)\n",
    "\n",
    "num_buscado = int(input(\"Introduce un número para contar cuántos elementos son mayores: \"))\n",
    "print(f\"Números mayores que {num_buscado}: {contar_mayores(nums, num_buscado)}\")"
   ]
  },
  {
   "cell_type": "markdown",
   "id": "b09e99df",
   "metadata": {},
   "source": [
    "### 20.- Encontrar el valor máximo\n",
    "Dada una lista de números, crea una función que recorra la lista y devuelva el valor máximo."
   ]
  },
  {
   "cell_type": "code",
   "execution_count": 57,
   "id": "59c08f80",
   "metadata": {},
   "outputs": [
    {
     "name": "stdout",
     "output_type": "stream",
     "text": [
      "Números generados: [87, 1, 50, 94, 44, 8, 68, 66, 82, 72]\n",
      "Valor máximo: 94\n"
     ]
    }
   ],
   "source": [
    "import random\n",
    "\n",
    "def encontrar_maximo(lista):\n",
    "  max = float('-inf')\n",
    "  for num in lista:\n",
    "    if num > max:\n",
    "      max = num\n",
    "  return max\n",
    "\n",
    "nums = []\n",
    "\n",
    "for i in range(random.randint(5, 15)):\n",
    "  nums.append(random.randint(1, 100))\n",
    "\n",
    "print(\"Números generados:\", nums)\n",
    "\n",
    "print(\"Valor máximo:\", encontrar_maximo(nums))"
   ]
  },
  {
   "cell_type": "markdown",
   "id": "9f4a6bcf",
   "metadata": {},
   "source": [
    "### 21.- Filtrar palabras largas\n",
    "Dada una lista de palabras, crea una función que recorra la lista y devuelva una nueva lista con todas las palabras que tengan más de 5 caracteres.\n"
   ]
  },
  {
   "cell_type": "code",
   "execution_count": 58,
   "id": "fc4105de",
   "metadata": {},
   "outputs": [
    {
     "name": "stdout",
     "output_type": "stream",
     "text": [
      "['ordenador', 'mariposa']\n"
     ]
    }
   ],
   "source": [
    "def filtrar_palabras_largas(lista):\n",
    "    return [palabra for palabra in lista if len(palabra) > 5]\n",
    "\n",
    "palabras = [\"casa\", \"ordenador\", \"sol\", \"mariposa\", \"luz\"]\n",
    "resultado = filtrar_palabras_largas(palabras)\n",
    "print(resultado)  # ['ordenador', 'mariposa']\n"
   ]
  },
  {
   "cell_type": "markdown",
   "id": "f2f50f0f",
   "metadata": {},
   "source": [
    "### 22.- Eliminar duplicados\n",
    "Dada una lista de números, crea una función que recorra la lista y elimine los elementos duplicados, devolviendo una nueva lista sin repeticiones."
   ]
  },
  {
   "cell_type": "code",
   "execution_count": 73,
   "id": "8f96501f",
   "metadata": {},
   "outputs": [
    {
     "name": "stdout",
     "output_type": "stream",
     "text": [
      "Números generados: [82, 21, 7, 49, 20, 8, 49, 70, 66]\n",
      "Números sin duplicados: [82, 21, 7, 49, 20, 8, 70, 66]\n"
     ]
    }
   ],
   "source": [
    "import random\n",
    "\n",
    "def eliminar_duplicados(lista):\n",
    "  copia = []\n",
    "  for num in lista:\n",
    "    if num not in copia:\n",
    "      copia.append(num)\n",
    "  return copia\n",
    "\n",
    "nums = []\n",
    "\n",
    "for i in range(random.randint(5, 15)):\n",
    "  nums.append(random.randint(1, 100))\n",
    "\n",
    "print(\"Números generados:\", nums)\n",
    "\n",
    "print(\"Números sin duplicados:\", eliminar_duplicados(nums))"
   ]
  }
 ],
 "metadata": {
  "kernelspec": {
   "display_name": "Python 3",
   "language": "python",
   "name": "python3"
  },
  "language_info": {
   "codemirror_mode": {
    "name": "ipython",
    "version": 3
   },
   "file_extension": ".py",
   "mimetype": "text/x-python",
   "name": "python",
   "nbconvert_exporter": "python",
   "pygments_lexer": "ipython3",
   "version": "3.13.7"
  }
 },
 "nbformat": 4,
 "nbformat_minor": 5
}
